{
 "cells": [
  {
   "cell_type": "code",
   "execution_count": 48,
   "metadata": {},
   "outputs": [],
   "source": [
    "import numpy as np \n",
    "import seaborn as sns\n",
    "import matplotlib.pyplot as plt\n",
    "from scipy.stats import norm\n",
    "from statsmodels.stats.proportion import proportions_ztest"
   ]
  },
  {
   "cell_type": "markdown",
   "metadata": {},
   "source": [
    "# Z Proportion Test"
   ]
  },
  {
   "cell_type": "code",
   "execution_count": 22,
   "metadata": {},
   "outputs": [
    {
     "name": "stdout",
     "output_type": "stream",
     "text": [
      "Group A: 351/605\n",
      "Group B: 41/195\n",
      "[0.58 0.21]\n",
      "Testing if proportions A - B = 20% ---\n",
      "zscore: 4.127460692782178\n",
      "p_value: 3.667911035111112e-05\n",
      "Testing if proportions A - B = 0 ---\n",
      "zscore: 8.985900954503084\n",
      "p_value: 2.566230446480293e-19\n"
     ]
    }
   ],
   "source": [
    "success = np.array([351,41])\n",
    "population = np.array([605,195])\n",
    "\n",
    "print(f\"Group A: {success[0]}/{population[0]}\")\n",
    "print(f\"Group B: {success[1]}/{population[1]}\")\n",
    "print((success/population).round(2))\n",
    "\n",
    "d = 0.2\n",
    "z,pvalue = proportions_ztest(success,population,value=d)\n",
    "print(f\"Testing if proportions A - B = 20% ---\\nzscore: {z}\\np_value: {pvalue}\")\n",
    "\n",
    "z,pvalue = proportions_ztest(success,population)\n",
    "print(f\"Testing if proportions A - B = 0 ---\\nzscore: {z}\\np_value: {pvalue}\")\n",
    "\n"
   ]
  },
  {
   "cell_type": "code",
   "execution_count": 51,
   "metadata": {},
   "outputs": [
    {
     "data": {
      "image/png": "[encoded data removed]",
      "text/plain": [
       "<Figure size 432x288 with 1 Axes>"
      ]
     },
     "metadata": {
      "needs_background": "light"
     },
     "output_type": "display_data"
    }
   ],
   "source": [
    "def draw_z_score(x, cond, mu, sigma, title):\n",
    "    y = norm.pdf(x, mu, sigma)\n",
    "    z = x[cond]\n",
    "    plt.plot(x, y)\n",
    "    plt.fill_between(z, 0, norm.pdf(z, mu, sigma))\n",
    "    plt.title(title)\n",
    "    plt.show()\n",
    "x = np.arange(-3,3,0.001)\n",
    "z0 = -0.75\n",
    "draw_z_score(x, x<z0, 0, 1, 'z<-0.75')"
   ]
  }
 ],
 "metadata": {
  "kernelspec": {
   "display_name": "Python 3",
   "language": "python",
   "name": "python3"
  },
  "language_info": {
   "codemirror_mode": {
    "name": "ipython",
    "version": 3
   },
   "file_extension": ".py",
   "mimetype": "text/x-python",
   "name": "python",
   "nbconvert_exporter": "python",
   "pygments_lexer": "ipython3",
   "version": "3.7.4"
  },
  "toc": {
   "base_numbering": 1,
   "nav_menu": {},
   "number_sections": true,
   "sideBar": true,
   "skip_h1_title": false,
   "title_cell": "Table of Contents",
   "title_sidebar": "Contents",
   "toc_cell": false,
   "toc_position": {},
   "toc_section_display": true,
   "toc_window_display": false
  }
 },
 "nbformat": 4,
 "nbformat_minor": 2
}
